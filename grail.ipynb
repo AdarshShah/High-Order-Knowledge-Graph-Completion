{
 "cells": [
  {
   "cell_type": "code",
   "execution_count": 1,
   "metadata": {},
   "outputs": [
    {
     "ename": "ModuleNotFoundError",
     "evalue": "No module named 'utils'",
     "output_type": "error",
     "traceback": [
      "\u001b[0;31m---------------------------------------------------------------------------\u001b[0m",
      "\u001b[0;31mModuleNotFoundError\u001b[0m                       Traceback (most recent call last)",
      "\u001b[1;32m/home/adarsh/H-KGC/grail.ipynb Cell 1\u001b[0m in \u001b[0;36m<cell line: 41>\u001b[0;34m()\u001b[0m\n\u001b[1;32m     <a href='vscode-notebook-cell://ssh-remote%2B10.33.34.55/home/adarsh/H-KGC/grail.ipynb#W0sdnNjb2RlLXJlbW90ZQ%3D%3D?line=37'>38</a>\u001b[0m set_seed(\u001b[39m2\u001b[39m)\n\u001b[1;32m     <a href='vscode-notebook-cell://ssh-remote%2B10.33.34.55/home/adarsh/H-KGC/grail.ipynb#W0sdnNjb2RlLXJlbW90ZQ%3D%3D?line=39'>40</a>\u001b[0m \u001b[39mfrom\u001b[39;00m \u001b[39mgrail\u001b[39;00m\u001b[39m.\u001b[39;00m\u001b[39mmodel\u001b[39;00m\u001b[39m.\u001b[39;00m\u001b[39mdgl\u001b[39;00m\u001b[39m.\u001b[39;00m\u001b[39mgraph_classifier\u001b[39;00m \u001b[39mimport\u001b[39;00m GraphClassifier \u001b[39mas\u001b[39;00m dgl_model\n\u001b[0;32m---> <a href='vscode-notebook-cell://ssh-remote%2B10.33.34.55/home/adarsh/H-KGC/grail.ipynb#W0sdnNjb2RlLXJlbW90ZQ%3D%3D?line=40'>41</a>\u001b[0m \u001b[39mfrom\u001b[39;00m \u001b[39mgrail\u001b[39;00m\u001b[39m.\u001b[39;00m\u001b[39msubgraph_extraction\u001b[39;00m\u001b[39m.\u001b[39;00m\u001b[39mgraph_sampler\u001b[39;00m \u001b[39mimport\u001b[39;00m node_label\n",
      "File \u001b[0;32m~/H-KGC/grail/subgraph_extraction/graph_sampler.py:17\u001b[0m, in \u001b[0;36m<module>\u001b[0;34m\u001b[0m\n\u001b[1;32m     15\u001b[0m \u001b[39mimport\u001b[39;00m \u001b[39mtorch\u001b[39;00m\n\u001b[1;32m     16\u001b[0m \u001b[39mfrom\u001b[39;00m \u001b[39mscipy\u001b[39;00m\u001b[39m.\u001b[39;00m\u001b[39mspecial\u001b[39;00m \u001b[39mimport\u001b[39;00m softmax\n\u001b[0;32m---> 17\u001b[0m \u001b[39mfrom\u001b[39;00m \u001b[39mutils\u001b[39;00m\u001b[39m.\u001b[39;00m\u001b[39mdgl_utils\u001b[39;00m \u001b[39mimport\u001b[39;00m _bfs_relational\n\u001b[1;32m     18\u001b[0m \u001b[39mfrom\u001b[39;00m \u001b[39mutils\u001b[39;00m\u001b[39m.\u001b[39;00m\u001b[39mgraph_utils\u001b[39;00m \u001b[39mimport\u001b[39;00m incidence_matrix, remove_nodes, ssp_to_torch, serialize, deserialize, get_edge_count, diameter, radius\n\u001b[1;32m     19\u001b[0m \u001b[39mimport\u001b[39;00m \u001b[39mnetworkx\u001b[39;00m \u001b[39mas\u001b[39;00m \u001b[39mnx\u001b[39;00m\n",
      "\u001b[0;31mModuleNotFoundError\u001b[0m: No module named 'utils'"
     ]
    }
   ],
   "source": [
    "import sys\n",
    "sys.path.append('../..')\n",
    "\n",
    "import warnings\n",
    "warnings.filterwarnings('ignore')\n",
    "\n",
    "from preprocess.process_dataset import get_dgl_graph\n",
    "from preprocess.subgraph_extraction import extract_subgraph\n",
    "from preprocess.graph_to_simplicial_complex import get_simplicial_complex, get_embeddings, _get_simplices, random_sample, _get_neg_simplices\n",
    "from hodgelaplacians import HodgeLaplacians\n",
    "from global_parameters import device\n",
    "from layers.simplicial_convolution import SimplicialAttentionLayer, SimplicialConvolution\n",
    "import numpy as np\n",
    "import timeit\n",
    "from torch.utils.data import Dataset, DataLoader\n",
    "import random\n",
    "import torch\n",
    "import os\n",
    "from tqdm import tqdm\n",
    "\n",
    "def set_seed(seed = 42):\n",
    "    '''\n",
    "        For Reproducibility: Sets the seed of the entire notebook.\n",
    "    '''\n",
    "\n",
    "    np.random.seed(seed)\n",
    "    random.seed(seed)\n",
    "    torch.manual_seed(seed)\n",
    "    torch.cuda.manual_seed(seed)\n",
    "    \n",
    "    # When running on the CuDNN backend, two further options must be set\n",
    "    torch.backends.cudnn.deterministic = True\n",
    "    torch.backends.cudnn.benchmark = True\n",
    "    \n",
    "    # Sets a fixed value for the hash seed\n",
    "    os.environ['PYTHONHASHSEED'] = str(seed)\n",
    "\n",
    "set_seed(2)\n",
    "\n",
    "from grail.model.dgl.graph_classifier import GraphClassifier as dgl_model\n",
    "from grail.subgraph_extraction.graph_sampler import node_label"
   ]
  },
  {
   "cell_type": "code",
   "execution_count": 2,
   "metadata": {},
   "outputs": [
    {
     "name": "stdout",
     "output_type": "stream",
     "text": [
      "> loading cat_edge_cooking dataset\n",
      "> loading nx_graph from cache\n",
      "> loading dgl_graph from cache\n"
     ]
    }
   ],
   "source": [
    "# Our model performs best on this dataset. Results are available below\n",
    "dataset = 'cat_edge_cooking'\n",
    "num_classes = 20\n",
    "simplex_order=4\n",
    "max_nodes = [10, 100, 150, 200] # parameters to control the sparsity of the sampled graph\n",
    "\n",
    "graph, nx_graph = get_dgl_graph(dataset)"
   ]
  },
  {
   "cell_type": "code",
   "execution_count": 3,
   "metadata": {},
   "outputs": [],
   "source": [
    "@torch.no_grad()\n",
    "def random_sample(dataset, num_classes, max_dim=4):\n",
    "    '''\n",
    "    Parameters:\n",
    "    -----------\n",
    "    dataset : str, name of the dataset e.g. cat_edge_cooking, cat_edge_DAWN etc.\n",
    "    num_classes : int, number of classes to which a simplex can be classified into\n",
    "    max_dim : int, the highest order of simplex allowed.\n",
    "\n",
    "    Returns:\n",
    "    --------\n",
    "    simplex: set, a set of vertices\n",
    "    dim: int, dimension of the sampled simplex\n",
    "    label: tensor, a binary tensor of size (num_classes,)\n",
    "    '''\n",
    "    dim = 1\n",
    "    simplicies, labels = _get_simplices(dataset, num_classes)\n",
    "    simplex = np.random.choice(simplicies)\n",
    "    while len(simplex) < dim+1:\n",
    "        simplex = np.random.choice(simplicies)\n",
    "    simplex = set(np.random.choice(list(simplex), size=dim+1, replace=False).tolist())\n",
    "    label = torch.zeros((num_classes,))\n",
    "    for sim, lab in zip(simplicies, labels):\n",
    "        if simplex.issubset(sim):\n",
    "            label[lab] = 1\n",
    "    return simplex, dim, label"
   ]
  },
  {
   "cell_type": "code",
   "execution_count": 4,
   "metadata": {},
   "outputs": [
    {
     "name": "stdout",
     "output_type": "stream",
     "text": [
      "Laplacians: [torch.Size([26, 26]), torch.Size([98, 98]), torch.Size([100, 100]), torch.Size([34, 34])]\n",
      "Boundaries: [torch.Size([1, 26]), torch.Size([26, 98]), torch.Size([98, 100]), torch.Size([100, 34])]\n",
      "Embeddings [torch.Size([26, 20]), torch.Size([98, 20]), torch.Size([100, 20]), torch.Size([34, 20])]\n",
      "Embeddings [torch.Size([26, 20]), torch.Size([98, 20]), torch.Size([100, 20]), torch.Size([34, 20])]\n",
      "Label tensor([0., 0., 0., 0., 0., 0., 0., 0., 1., 0., 0., 0., 0., 0., 0., 0., 0., 1.,\n",
      "        0., 0.])\n",
      "Order: 1 Index: 79\n",
      "subgraph :  26\n"
     ]
    }
   ],
   "source": [
    "simplex, order, label = random_sample(dataset, num_classes=num_classes, max_dim=simplex_order)\n",
    "to_remove = frozenset(simplex)\n",
    "subgraph = extract_subgraph(simplex, graph, h=4, enclosing_sub_graph=True, max_nodes_per_hop=max_nodes[order])\n",
    "isolated_nodes = ((subgraph.in_degrees() == 0) & (subgraph.out_degrees() == 0)).nonzero().squeeze(1)\n",
    "subgraph.remove_nodes(isolated_nodes)\n",
    "simplex_labels = get_simplicial_complex(subgraph, graph, nx_graph, dataset, num_classes)\n",
    "pos_embeddings, neg_embeddings, laplacians, boundaries, idx = get_embeddings(simplex_labels, to_remove, num_classes, dim=simplex_order)\n",
    "print('Laplacians:',[ laplacian.shape if laplacian is not None else 0 for laplacian in laplacians])\n",
    "print('Boundaries:',[ boundary.shape if boundary is not None else 0 for boundary in boundaries])\n",
    "print('Embeddings',[ embedding.shape if embedding is not None else 0 for embedding in pos_embeddings])\n",
    "print('Embeddings',[ embedding.shape if embedding is not None else 0 for embedding in neg_embeddings])\n",
    "print('Label',label)\n",
    "print('Order:',order, 'Index:',idx)\n",
    "print('subgraph : ', subgraph.num_nodes())"
   ]
  },
  {
   "cell_type": "code",
   "execution_count": 43,
   "metadata": {},
   "outputs": [
    {
     "name": "stderr",
     "output_type": "stream",
     "text": [
      "100%|██████████| 959868/959868 [00:08<00:00, 119393.90it/s]\n"
     ]
    }
   ],
   "source": [
    "simplices, labels = _get_simplices(dataset, num_classes)\n",
    "edges = torch.stack(graph.edges()).permute(1,0).numpy()\n",
    "nodes = set(graph.nodes())\n",
    "simplex_labels = {}\n",
    "visited = set()\n",
    "for u,v in tqdm(edges):\n",
    "    label = np.zeros(num_classes)\n",
    "    for simplex_index in nx_graph[u][v]['hyperedge_index']:\n",
    "        label[labels[simplex_index]] = 1\n",
    "    nx_graph[u][v]['label'] = np.flatnonzero(label)"
   ]
  },
  {
   "cell_type": "code",
   "execution_count": 44,
   "metadata": {},
   "outputs": [
    {
     "name": "stderr",
     "output_type": "stream",
     "text": [
      "100%|██████████| 959868/959868 [00:03<00:00, 275319.51it/s]\n",
      "100%|██████████| 1029736/1029736 [00:01<00:00, 596798.40it/s]\n",
      "100%|██████████| 343246/343246 [00:00<00:00, 584606.42it/s]\n"
     ]
    }
   ],
   "source": [
    "import networkx as nx\n",
    "triplets = []\n",
    "for u,v in tqdm(edges):\n",
    "    for r in nx_graph[u][v]['label']:\n",
    "        triplets.append((u,r,v))\n",
    "from sklearn.model_selection import train_test_split\n",
    "train, test = train_test_split(triplets)\n",
    "with open('/home/adarsh/H-KGC/grail/data/cat_edge_cooking/train.txt','w') as f:\n",
    "    for u,r,v in tqdm(train):\n",
    "        f.write(f'{u}\\t{r}\\t{v}\\n')\n",
    "with open('/home/adarsh/H-KGC/grail/data/cat_edge_cooking/valid.txt','w') as f:\n",
    "    for u,r,v in tqdm(test):\n",
    "        f.write(f'{u}\\t{r}\\t{v}\\n')"
   ]
  },
  {
   "cell_type": "code",
   "execution_count": null,
   "metadata": {},
   "outputs": [],
   "source": [
    "triplets = {}\n"
   ]
  },
  {
   "cell_type": "code",
   "execution_count": null,
   "metadata": {},
   "outputs": [],
   "source": [
    "labels, _ = node_label(subgraph.adj(scipy_fmt='coo').todense(), 3)"
   ]
  }
 ],
 "metadata": {
  "kernelspec": {
   "display_name": "mtech-ai",
   "language": "python",
   "name": "python3"
  },
  "language_info": {
   "codemirror_mode": {
    "name": "ipython",
    "version": 3
   },
   "file_extension": ".py",
   "mimetype": "text/x-python",
   "name": "python",
   "nbconvert_exporter": "python",
   "pygments_lexer": "ipython3",
   "version": "3.8.13"
  },
  "orig_nbformat": 4,
  "vscode": {
   "interpreter": {
    "hash": "35c8a66ee3e6b3d2731e4e1d203879b7efbef813706e5767cef09de0fdb5c447"
   }
  }
 },
 "nbformat": 4,
 "nbformat_minor": 2
}
