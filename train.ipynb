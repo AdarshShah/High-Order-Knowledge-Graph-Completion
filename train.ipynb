{
 "cells": [
  {
   "cell_type": "code",
   "execution_count": null,
   "metadata": {
    "notebookRunGroups": {
     "groupValue": "1"
    }
   },
   "outputs": [],
   "source": [
    "import sys\n",
    "sys.path.append('../..')\n",
    "\n",
    "import warnings\n",
    "warnings.filterwarnings('ignore')\n",
    "\n",
    "from preprocess.process_dataset import get_dgl_graph\n",
    "from preprocess.subgraph_extraction import extract_subgraph\n",
    "from preprocess.graph_to_simplicial_complex import get_simplicial_complex, get_embeddings, _get_simplices, random_sample\n",
    "from hodgelaplacians import HodgeLaplacians\n",
    "from global_parameters import device\n",
    "from layers.simplicial_convolution import SimplicialAttentionLayer, SimplicialConvolution\n",
    "import numpy as np\n",
    "import timeit\n",
    "from torch.utils.data import Dataset, DataLoader"
   ]
  },
  {
   "cell_type": "code",
   "execution_count": null,
   "metadata": {},
   "outputs": [],
   "source": [
    "dataset = 'cat_edge_DAWN'\n",
    "num_classes = 11"
   ]
  },
  {
   "cell_type": "code",
   "execution_count": null,
   "metadata": {
    "notebookRunGroups": {
     "groupValue": "1"
    }
   },
   "outputs": [],
   "source": [
    "dataset = 'cat_edge_cooking'\n",
    "num_classes = 20"
   ]
  },
  {
   "cell_type": "code",
   "execution_count": null,
   "metadata": {
    "notebookRunGroups": {
     "groupValue": "1"
    }
   },
   "outputs": [],
   "source": [
    "graph, nx_graph = get_dgl_graph(dataset)"
   ]
  },
  {
   "cell_type": "markdown",
   "metadata": {},
   "source": [
    "# Sampling"
   ]
  },
  {
   "attachments": {},
   "cell_type": "markdown",
   "metadata": {},
   "source": [
    "> Hyperparameters for graph subsampling controlling the number of nodes sampled at each hop corresponding to each simplex order."
   ]
  },
  {
   "cell_type": "code",
   "execution_count": null,
   "metadata": {
    "notebookRunGroups": {
     "groupValue": "1"
    }
   },
   "outputs": [],
   "source": [
    "max_nodes = [10, 100, 150, 200]"
   ]
  },
  {
   "cell_type": "code",
   "execution_count": null,
   "metadata": {},
   "outputs": [],
   "source": [
    "simplex, order, label = random_sample(dataset, num_classes=num_classes, max_dim=4)\n",
    "to_remove = frozenset(simplex)\n",
    "subgraph = extract_subgraph(simplex, graph, h=4, enclosing_sub_graph=True, max_nodes_per_hop=max_nodes[order])\n",
    "isolated_nodes = ((subgraph.in_degrees() == 0) & (subgraph.out_degrees() == 0)).nonzero().squeeze(1)\n",
    "subgraph.remove_nodes(isolated_nodes)\n",
    "simplex_labels = get_simplicial_complex(subgraph, graph, nx_graph, dataset, num_classes)\n",
    "embeddings, laplacians, boundaries, idx = get_embeddings(simplex_labels, to_remove, num_classes, dim=4)\n",
    "print('Laplacians:',[ laplacian.shape if laplacian is not None else 0 for laplacian in laplacians])\n",
    "print('Boundaries:',[ boundary.shape if boundary is not None else 0 for boundary in boundaries])\n",
    "print('Embeddings',[ embedding.shape if embedding is not None else 0 for embedding in embeddings])\n",
    "print('Label',label)\n",
    "print('Order:',order, 'Index:',idx)\n",
    "print('subgraph : ', subgraph.num_nodes())"
   ]
  },
  {
   "cell_type": "markdown",
   "metadata": {},
   "source": [
    "# Model Training and Evaluation"
   ]
  },
  {
   "cell_type": "code",
   "execution_count": null,
   "metadata": {
    "notebookRunGroups": {
     "groupValue": "1"
    }
   },
   "outputs": [],
   "source": [
    "from models.model import SimplicialModel1, BaseGNN\n",
    "import torch\n",
    "from tqdm import tqdm\n",
    "from torch.utils.tensorboard import SummaryWriter\n",
    "\n",
    "writer = SummaryWriter(f'/home/adarsh/H-KGC/datasets/{dataset}/logs')\n",
    "gs = 0\n",
    "\n",
    "cm = SimplicialModel1(num_classes, dim=4, device=device).to(device)\n",
    "baseGnn = BaseGNN(num_classes, dim=4, device=device).to(device)\n",
    "optim1 = torch.optim.Adam(cm.parameters(), lr=1e-5, betas=(0.8, 0.9))\n",
    "optim2 = torch.optim.Adam(baseGnn.parameters(), lr=1e-5, betas=(0.8, 0.9))"
   ]
  },
  {
   "cell_type": "code",
   "execution_count": null,
   "metadata": {
    "notebookRunGroups": {
     "groupValue": "1"
    }
   },
   "outputs": [],
   "source": [
    "class MyDataset(Dataset):\n",
    "\n",
    "    def __getitem__(self, index):\n",
    "        b = 1\n",
    "        while b!=0:\n",
    "            try:\n",
    "                simplex, order, label = random_sample(dataset, num_classes=num_classes, max_dim=4)\n",
    "                to_remove = frozenset(simplex)\n",
    "                subgraph = extract_subgraph(simplex, graph, h=4, enclosing_sub_graph=True, max_nodes_per_hop=max_nodes[order])\n",
    "                isolated_nodes = ((subgraph.in_degrees() == 0) & (subgraph.out_degrees() == 0)).nonzero().squeeze(1)\n",
    "                subgraph.remove_nodes(isolated_nodes)\n",
    "                simplex_labels = get_simplicial_complex(subgraph, graph, nx_graph, dataset, num_classes)\n",
    "                b = 0\n",
    "            except:\n",
    "                pass\n",
    "        embeddings, laplacians, boundaries, idx = get_embeddings(simplex_labels, to_remove, num_classes, dim=4)\n",
    "        return embeddings, laplacians, boundaries, order, idx, label, subgraph\n",
    "    \n",
    "    def __len__(self):\n",
    "        return 5000\n",
    "\n",
    "def custom_collate(X):\n",
    "    return X[0]\n",
    "\n",
    "dataloader = DataLoader(MyDataset(), batch_size=1, num_workers=16, collate_fn=custom_collate)"
   ]
  },
  {
   "cell_type": "code",
   "execution_count": null,
   "metadata": {
    "notebookRunGroups": {
     "groupValue": "1"
    }
   },
   "outputs": [],
   "source": [
    "gs = 0\n",
    "timeout = 0\n",
    "loss1 = 0 \n",
    "loss2 = 0\n",
    "ep = 0\n",
    "with tqdm(dataloader) as tepoch:\n",
    "    for embeddings, laplacians, boundaries, order, idx, label, subgraph in tepoch:\n",
    "        label, subgraph = label.to(device), subgraph.to(device)\n",
    "        embeddings = [ x.to(device) if x is not None else None for x in embeddings]\n",
    "        laplacians = [ x.to(device) if x is not None else None for x in laplacians]\n",
    "        boundaries = [ x.to(device) if x is not None else None for x in boundaries]\n",
    "\n",
    "        try:\n",
    "            pred = cm(embeddings, laplacians, boundaries, order, idx).squeeze()\n",
    "            loss1 += torch.nn.functional.binary_cross_entropy_with_logits(pred, label)\n",
    "            \n",
    "            \n",
    "            subgraph = subgraph.to(device)\n",
    "            pred = baseGnn(subgraph, embeddings[0], order).squeeze()\n",
    "            loss2 += torch.nn.functional.binary_cross_entropy_with_logits(pred, label)\n",
    "\n",
    "            # if ep%4==0:\n",
    "            optim1.zero_grad()\n",
    "            loss1.backward() \n",
    "            optim1.step()\n",
    "            optim2.zero_grad()\n",
    "            loss2.backward()\n",
    "            optim2.step()\n",
    "            writer.add_scalars('Train Loss',{'Simplicial CNN': loss1.item(), 'Vanilla GNN': loss2.item()}, gs)\n",
    "\n",
    "            gs+=1\n",
    "            torch.cuda.empty_cache()\n",
    "\n",
    "            loss1 = 0\n",
    "            loss2 = 0\n",
    "        except:\n",
    "            break"
   ]
  },
  {
   "cell_type": "markdown",
   "metadata": {},
   "source": [
    "> The following analysis established increasing the density of sampled subgraph increases the autograd function's time. \\\n",
    "> The preprocessing steps are efficient enough"
   ]
  },
  {
   "cell_type": "code",
   "execution_count": null,
   "metadata": {},
   "outputs": [],
   "source": [
    "import cProfile\n",
    "import pstats\n",
    "\n",
    "# profile = cProfile.Profile()\n",
    "# profile.runcall(train)\n",
    "# ps = pstats.Stats(profile)\n",
    "# ps.print_stats()"
   ]
  },
  {
   "cell_type": "code",
   "execution_count": null,
   "metadata": {
    "notebookRunGroups": {
     "groupValue": "1"
    }
   },
   "outputs": [],
   "source": [
    "with torch.no_grad():\n",
    "    ep = 0\n",
    "    H1 = []\n",
    "    H2 = []\n",
    "    with tqdm(dataloader) as tepoch:\n",
    "        for embeddings, laplacians, boundaries, order, idx, label, subgraph in tepoch:\n",
    "            label, subgraph = label.to(device), subgraph.to(device)\n",
    "            embeddings = [ x.to(device) if x is not None else None for x in embeddings]\n",
    "            laplacians = [ x.to(device) if x is not None else None for x in laplacians]\n",
    "            boundaries = [ x.to(device) if x is not None else None for x in boundaries]\n",
    "            try:\n",
    "                pred1 = cm(embeddings, laplacians, boundaries, order, idx).squeeze()\n",
    "                pred2 = baseGnn(subgraph, embeddings[0], order).squeeze()\n",
    "                H1.append((torch.round(torch.sigmoid(pred1))==label).long())\n",
    "                H2.append((torch.round(torch.sigmoid(pred2))==label).long())\n",
    "                ep += 1\n",
    "                torch.cuda.empty_cache()\n",
    "                if ep%1000 == 0:\n",
    "                    break\n",
    "            except:\n",
    "                pass"
   ]
  },
  {
   "cell_type": "markdown",
   "metadata": {},
   "source": [
    "### Test Accuracy"
   ]
  },
  {
   "cell_type": "code",
   "execution_count": null,
   "metadata": {
    "notebookRunGroups": {
     "groupValue": "1"
    }
   },
   "outputs": [],
   "source": [
    "A = torch.sum(torch.stack(H2),dim=0)/len(H2)"
   ]
  },
  {
   "cell_type": "code",
   "execution_count": null,
   "metadata": {
    "notebookRunGroups": {
     "groupValue": "1"
    }
   },
   "outputs": [],
   "source": [
    "B = torch.sum(torch.stack(H1),dim=0)/len(H1)"
   ]
  },
  {
   "cell_type": "code",
   "execution_count": null,
   "metadata": {
    "notebookRunGroups": {
     "groupValue": "1"
    }
   },
   "outputs": [],
   "source": [
    "B-A"
   ]
  }
 ],
 "metadata": {
  "kernelspec": {
   "display_name": "mtech-ai",
   "language": "python",
   "name": "python3"
  },
  "language_info": {
   "codemirror_mode": {
    "name": "ipython",
    "version": 3
   },
   "file_extension": ".py",
   "mimetype": "text/x-python",
   "name": "python",
   "nbconvert_exporter": "python",
   "pygments_lexer": "ipython3",
   "version": "3.8.13"
  },
  "orig_nbformat": 4,
  "vscode": {
   "interpreter": {
    "hash": "35c8a66ee3e6b3d2731e4e1d203879b7efbef813706e5767cef09de0fdb5c447"
   }
  }
 },
 "nbformat": 4,
 "nbformat_minor": 2
}
