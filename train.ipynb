{
 "cells": [
  {
   "cell_type": "code",
   "execution_count": null,
   "metadata": {},
   "outputs": [],
   "source": [
    "import sys\n",
    "sys.path.append('../..')\n",
    "\n",
    "import warnings\n",
    "warnings.filterwarnings('ignore')\n",
    "\n",
    "from preprocess.process_dataset import get_dgl_graph\n",
    "from preprocess.subgraph_extraction import extract_subgraph\n",
    "from preprocess.graph_to_simplicial_complex import get_simplicial_complex, get_embeddings, device, _get_simplices\n",
    "from hodgelaplacians import HodgeLaplacians\n",
    "from layers.simplicial_convolution import SimplicialAttentionLayer, SimplicialConvolution\n",
    "import numpy as np"
   ]
  },
  {
   "cell_type": "code",
   "execution_count": null,
   "metadata": {},
   "outputs": [],
   "source": [
    "dataset = 'cat_edge_cooking'\n",
    "num_classes = 20"
   ]
  },
  {
   "cell_type": "code",
   "execution_count": null,
   "metadata": {},
   "outputs": [],
   "source": [
    "dataset = 'cat_edge_DAWN'\n",
    "num_classes = 11"
   ]
  },
  {
   "cell_type": "code",
   "execution_count": null,
   "metadata": {},
   "outputs": [],
   "source": [
    "graph, nx_graph = get_dgl_graph(dataset)"
   ]
  },
  {
   "cell_type": "markdown",
   "metadata": {},
   "source": [
    "# Sampling"
   ]
  },
  {
   "cell_type": "code",
   "execution_count": null,
   "metadata": {},
   "outputs": [],
   "source": [
    "eid = np.random.choice(graph.edges('eid'))\n",
    "u, v = graph.find_edges(eid)\n",
    "to_remove = frozenset((u.item(), v.item()))\n",
    "subgraph = extract_subgraph([u.item(), v.item()], graph, h=4, enclosing_sub_graph=True, max_nodes_per_hop=60)\n",
    "simplex_labels = get_simplicial_complex(subgraph, graph, nx_graph, dataset, num_classes)\n",
    "embeddings, laplacians, boundaries, idx, label = get_embeddings(simplex_labels, to_remove, num_classes, dim=4)\n",
    "print('Laplacians:',[ laplacian.shape if laplacian is not None else 0 for laplacian in laplacians])\n",
    "print('Boundaries:',[ boundary.shape if boundary is not None else 0 for boundary in boundaries])\n",
    "print('Embeddings',[ embedding.shape if embedding is not None else 0 for embedding in embeddings])\n",
    "print('Label',label.shape)\n",
    "print('Edge',idx)"
   ]
  },
  {
   "cell_type": "markdown",
   "metadata": {},
   "source": [
    "# Model Training and Evaluation"
   ]
  },
  {
   "cell_type": "code",
   "execution_count": null,
   "metadata": {},
   "outputs": [],
   "source": [
    "from models.model import SimplicialModel1\n",
    "import torch\n",
    "from tqdm import tqdm\n",
    "from torch.utils.tensorboard import SummaryWriter\n",
    "\n",
    "writer = SummaryWriter('/home/adarsh/H-KGC/datasets/cat_edge_cooking/logs')\n",
    "gs = 0\n",
    "\n",
    "cm = SimplicialModel1(num_classes, dim=4, device=device).to(device)\n",
    "optim = torch.optim.Adam(cm.parameters(), lr=1e-4)"
   ]
  },
  {
   "cell_type": "code",
   "execution_count": null,
   "metadata": {},
   "outputs": [],
   "source": [
    "for ep in tqdm(range(500)):\n",
    "    eid = np.random.choice(graph.edges('eid'))\n",
    "    u, v = graph.find_edges(eid)\n",
    "    to_remove = frozenset((u.item(), v.item()))\n",
    "    subgraph = extract_subgraph([u.item(), v.item()], graph, h=4, enclosing_sub_graph=True, max_nodes_per_hop=60)\n",
    "    simplex_labels = get_simplicial_complex(subgraph, graph, nx_graph, dataset, num_classes)\n",
    "    embeddings, laplacians, boundaries, idx, label = get_embeddings(simplex_labels, to_remove, num_classes, dim=4)\n",
    "\n",
    "    pred = cm(embeddings, laplacians, boundaries, 1, idx).squeeze()\n",
    "    loss = torch.nn.functional.binary_cross_entropy_with_logits(pred, label)\n",
    "    optim.zero_grad()\n",
    "    loss.backward()\n",
    "    optim.step()\n",
    "    writer.add_scalar('train loss',loss.item(), gs)\n",
    "    gs+=1\n",
    "    torch.cuda.empty_cache()"
   ]
  },
  {
   "cell_type": "code",
   "execution_count": null,
   "metadata": {},
   "outputs": [],
   "source": [
    "with torch.no_grad():\n",
    "    H = []\n",
    "    for ep in tqdm(range(50)):\n",
    "        eid = np.random.choice(graph.edges('eid'))\n",
    "        u, v = graph.find_edges(eid)\n",
    "        to_remove = frozenset((u.item(), v.item()))\n",
    "        subgraph = extract_subgraph([u.item(), v.item()], graph, h=4, enclosing_sub_graph=True, max_nodes_per_hop=60)\n",
    "        simplex_labels = get_simplicial_complex(subgraph, graph, nx_graph, dataset, num_classes)\n",
    "        embeddings, laplacians, boundaries, idx, label = get_embeddings(simplex_labels, to_remove, num_classes, dim=4)\n",
    "\n",
    "        pred = cm(embeddings, laplacians, boundaries, 1, idx).squeeze()\n",
    "        H.append((torch.round(torch.sigmoid(pred))==label).long())"
   ]
  },
  {
   "cell_type": "markdown",
   "metadata": {},
   "source": [
    "### Test Accuracy"
   ]
  },
  {
   "cell_type": "code",
   "execution_count": null,
   "metadata": {},
   "outputs": [],
   "source": [
    "torch.sum(torch.stack(H),dim=0)/len(H)"
   ]
  }
 ],
 "metadata": {
  "kernelspec": {
   "display_name": "mtech-ai",
   "language": "python",
   "name": "python3"
  },
  "language_info": {
   "codemirror_mode": {
    "name": "ipython",
    "version": 3
   },
   "file_extension": ".py",
   "mimetype": "text/x-python",
   "name": "python",
   "nbconvert_exporter": "python",
   "pygments_lexer": "ipython3",
   "version": "3.8.13"
  },
  "orig_nbformat": 4,
  "vscode": {
   "interpreter": {
    "hash": "35c8a66ee3e6b3d2731e4e1d203879b7efbef813706e5767cef09de0fdb5c447"
   }
  }
 },
 "nbformat": 4,
 "nbformat_minor": 2
}
