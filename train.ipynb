{
 "cells": [
  {
   "cell_type": "code",
   "execution_count": 1,
   "metadata": {
    "notebookRunGroups": {
     "groupValue": "12"
    }
   },
   "outputs": [],
   "source": [
    "import sys\n",
    "sys.path.append('../..')\n",
    "\n",
    "import warnings\n",
    "warnings.filterwarnings('ignore')\n",
    "\n",
    "from preprocess.process_dataset import get_dgl_graph\n",
    "from preprocess.subgraph_extraction import extract_subgraph\n",
    "from preprocess.graph_to_simplicial_complex import get_simplicial_complex, get_embeddings, _get_simplices, random_sample\n",
    "from hodgelaplacians import HodgeLaplacians\n",
    "from global_parameters import device\n",
    "from layers.simplicial_convolution import SimplicialAttentionLayer, SimplicialConvolution\n",
    "import numpy as np\n",
    "import timeit\n",
    "from torch.utils.data import Dataset, DataLoader\n",
    "import random\n",
    "import torch\n",
    "import os\n",
    "\n",
    "def set_seed(seed = 42):\n",
    "    '''\n",
    "        For Reproducibility: Sets the seed of the entire notebook.\n",
    "    '''\n",
    "\n",
    "    np.random.seed(seed)\n",
    "    random.seed(seed)\n",
    "    torch.manual_seed(seed)\n",
    "    torch.cuda.manual_seed(seed)\n",
    "    \n",
    "    # When running on the CuDNN backend, two further options must be set\n",
    "    torch.backends.cudnn.deterministic = True\n",
    "    torch.backends.cudnn.benchmark = True\n",
    "    \n",
    "    # Sets a fixed value for the hash seed\n",
    "    os.environ['PYTHONHASHSEED'] = str(seed)\n",
    "\n",
    "# set_seed(2)"
   ]
  },
  {
   "cell_type": "code",
   "execution_count": null,
   "metadata": {
    "notebookRunGroups": {
     "groupValue": ""
    }
   },
   "outputs": [],
   "source": [
    "# Author mentions this dataset to have 10 classes. but the labels shows more than 1500 classes with severe class imbalance.\n",
    "dataset = 'cat_edge_DAWN' # problem with dataset\n",
    "num_classes = 10\n",
    "simplex_order=4"
   ]
  },
  {
   "cell_type": "code",
   "execution_count": 2,
   "metadata": {
    "notebookRunGroups": {
     "groupValue": "1"
    }
   },
   "outputs": [],
   "source": [
    "# Our model performs best on this dataset. Results are available below\n",
    "dataset = 'cat_edge_cooking'\n",
    "num_classes = 20\n",
    "simplex_order = 4\n",
    "max_nodes = [10, 100, 150, 200] # parameters to control the sparsity of the sampled graph"
   ]
  },
  {
   "cell_type": "code",
   "execution_count": 2,
   "metadata": {
    "notebookRunGroups": {
     "groupValue": ""
    }
   },
   "outputs": [],
   "source": [
    "# AUC > 0.5 for all classes but does not achieve the highest auc. The model with highest AUC has AUC < 0.5 for some classes.\n",
    "dataset = 'cat_edge_MAG_10'\n",
    "num_classes = 10\n",
    "simplex_order=4\n",
    "max_nodes = [10, 80, 100, 150]"
   ]
  },
  {
   "cell_type": "code",
   "execution_count": 30,
   "metadata": {
    "notebookRunGroups": {
     "groupValue": "2"
    }
   },
   "outputs": [],
   "source": [
    "# Our model performs best on this dataset. Results are available below\n",
    "dataset = 'cat_edge_algebra_questions'\n",
    "num_classes = 32\n",
    "simplex_order = 4\n",
    "max_nodes = [3, 20, 25, 30]"
   ]
  },
  {
   "cell_type": "code",
   "execution_count": 3,
   "metadata": {
    "notebookRunGroups": {
     "groupValue": "12"
    }
   },
   "outputs": [],
   "source": [
    "graph, nx_graph = get_dgl_graph(dataset)"
   ]
  },
  {
   "cell_type": "markdown",
   "metadata": {},
   "source": [
    "# Sampling"
   ]
  },
  {
   "attachments": {},
   "cell_type": "markdown",
   "metadata": {},
   "source": [
    "> Hyperparameters for graph subsampling controlling the number of nodes sampled at each hop corresponding to each simplex order."
   ]
  },
  {
   "cell_type": "code",
   "execution_count": 10,
   "metadata": {},
   "outputs": [
    {
     "name": "stdout",
     "output_type": "stream",
     "text": [
      "Laplacians: [torch.Size([64, 64]), torch.Size([696, 696]), torch.Size([1344, 1344]), torch.Size([916, 916])]\n",
      "Boundaries: [torch.Size([1, 64]), torch.Size([64, 696]), torch.Size([696, 1344]), torch.Size([1344, 916])]\n",
      "Embeddings [torch.Size([64, 20]), torch.Size([696, 20]), torch.Size([1344, 20]), torch.Size([916, 20])]\n",
      "Embeddings [torch.Size([64, 20]), torch.Size([696, 20]), torch.Size([1344, 20]), torch.Size([916, 20])]\n",
      "Label tensor([0., 0., 0., 0., 0., 0., 0., 0., 0., 0., 0., 0., 1., 0., 0., 0., 0., 0.,\n",
      "        0., 0.])\n",
      "Label tensor([0., 0., 0., 0., 0., 0., 0., 0., 1., 0., 0., 0., 0., 0., 0., 0., 0., 0.,\n",
      "        0., 0.])\n",
      "Order: 1 Index: 50\n",
      "subgraph :  64\n"
     ]
    }
   ],
   "source": [
    "simplex, order, pos_label, neg_label = random_sample(dataset, num_classes=num_classes, max_dim=simplex_order, dim=1)\n",
    "to_remove = frozenset(simplex)\n",
    "subgraph = extract_subgraph(simplex, graph, h=4, enclosing_sub_graph=True, max_nodes_per_hop=max_nodes[order])\n",
    "isolated_nodes = ((subgraph.in_degrees() == 0) & (subgraph.out_degrees() == 0)).nonzero().squeeze(1)\n",
    "subgraph.remove_nodes(isolated_nodes)\n",
    "pos_simplex_labels = get_simplicial_complex(subgraph, graph, nx_graph, dataset, num_classes, positive=True)\n",
    "neg_simplex_labels = get_simplicial_complex(subgraph, graph, nx_graph, dataset, num_classes, positive=False)\n",
    "pos_embeddings, laplacians, boundaries, idx = get_embeddings(pos_simplex_labels, to_remove, num_classes, dim=simplex_order)\n",
    "neg_embeddings, _, _, _ = get_embeddings(neg_simplex_labels, to_remove, num_classes, dim=simplex_order)\n",
    "print('Laplacians:',[ laplacian.shape if laplacian is not None else 0 for laplacian in laplacians])\n",
    "print('Boundaries:',[ boundary.shape if boundary is not None else 0 for boundary in boundaries])\n",
    "print('Embeddings',[ embedding.shape if embedding is not None else 0 for embedding in pos_embeddings])\n",
    "print('Embeddings',[ embedding.shape if embedding is not None else 0 for embedding in neg_embeddings])\n",
    "print('Label',pos_label)\n",
    "print('Label',neg_label)\n",
    "print('Order:',order, 'Index:',idx)\n",
    "print('subgraph : ', subgraph.num_nodes())"
   ]
  },
  {
   "cell_type": "code",
   "execution_count": 8,
   "metadata": {},
   "outputs": [],
   "source": [
    "_, neg_labels = _get_simplices(dataset, num_classes, True)"
   ]
  },
  {
   "cell_type": "markdown",
   "metadata": {},
   "source": [
    "# Model Training and Evaluation"
   ]
  },
  {
   "cell_type": "code",
   "execution_count": 4,
   "metadata": {
    "notebookRunGroups": {
     "groupValue": "12"
    }
   },
   "outputs": [],
   "source": [
    "from models.model import SimplicialModel1, BaseGNN\n",
    "import torch\n",
    "from tqdm import tqdm\n",
    "from torch.utils.tensorboard import SummaryWriter\n",
    "\n",
    "writer = SummaryWriter(f'/home/adarsh/H-KGC/datasets/{dataset}/logs')\n",
    "gs = 0\n",
    "\n",
    "cm = SimplicialModel1(num_classes, dim=simplex_order, device=device).to(device)\n",
    "baseGnn = BaseGNN(num_classes, dim=simplex_order, device=device).to(device)\n"
   ]
  },
  {
   "cell_type": "code",
   "execution_count": 5,
   "metadata": {
    "notebookRunGroups": {
     "groupValue": "12"
    }
   },
   "outputs": [],
   "source": [
    "class MyDataset(Dataset):\n",
    "\n",
    "    def __init__(self, dim=None) -> None:\n",
    "        super().__init__()\n",
    "        self.dim = dim\n",
    "\n",
    "    def __getitem__(self, index):\n",
    "        b = 1\n",
    "        while b!=0:\n",
    "            simplex, order, pos_label, neg_label = random_sample(dataset, num_classes=num_classes, max_dim=simplex_order, dim=self.dim)  # randomly sample \n",
    "            to_remove = frozenset(simplex)\n",
    "            try:\n",
    "                subgraph = extract_subgraph(simplex, graph, h=4, enclosing_sub_graph=True, max_nodes_per_hop=max_nodes[order])\n",
    "                isolated_nodes = ((subgraph.in_degrees() == 0) & (subgraph.out_degrees() == 0)).nonzero().squeeze(1)\n",
    "                subgraph.remove_nodes(isolated_nodes)\n",
    "                pos_simplex_labels = get_simplicial_complex(subgraph, graph, nx_graph, dataset, num_classes, positive=True)\n",
    "                neg_simplex_labels = get_simplicial_complex(subgraph, graph, nx_graph, dataset, num_classes, positive=False)\n",
    "                pos_embeddings, laplacians, boundaries, idx = get_embeddings(pos_simplex_labels, to_remove, num_classes, dim=simplex_order)\n",
    "                neg_embeddings, _, _, _ = get_embeddings(neg_simplex_labels, to_remove, num_classes, dim=simplex_order)\n",
    "                b = 0\n",
    "            except:\n",
    "                pass\n",
    "        return pos_embeddings, neg_embeddings, laplacians, boundaries, order, idx, pos_label, subgraph\n",
    "    \n",
    "    def __len__(self):\n",
    "        return 10000\n",
    "\n",
    "def custom_collate(X):\n",
    "    return X[0]\n",
    "\n",
    "dataloader = DataLoader(MyDataset(dim=1), batch_size=1, num_workers=16, collate_fn=custom_collate)"
   ]
  },
  {
   "cell_type": "code",
   "execution_count": 6,
   "metadata": {
    "notebookRunGroups": {
     "groupValue": "12"
    }
   },
   "outputs": [],
   "source": [
    "optim1 = torch.optim.Adam(cm.parameters())\n",
    "optim2 = torch.optim.Adam(baseGnn.parameters())"
   ]
  },
  {
   "cell_type": "code",
   "execution_count": 7,
   "metadata": {
    "notebookRunGroups": {
     "groupValue": "12"
    }
   },
   "outputs": [
    {
     "name": "stderr",
     "output_type": "stream",
     "text": [
      "100%|██████████| 10000/10000 [18:43<00:00,  8.90it/s] \n"
     ]
    }
   ],
   "source": [
    "gs = 0\n",
    "timeout = 0\n",
    "loss1 = 0 \n",
    "loss2 = 0\n",
    "ep = 0\n",
    "with tqdm(dataloader) as tepoch:\n",
    "    for pos_embeddings, neg_embeddings, laplacians, boundaries, order, idx, label, subgraph in tepoch:\n",
    "        label, subgraph = label.to(device), subgraph.to(device)\n",
    "        pos_embeddings = [ x.to(device) if x is not None else None for x in pos_embeddings]\n",
    "        neg_embeddings = [ x.to(device) if x is not None else None for x in neg_embeddings]\n",
    "        laplacians = [ x.to(device) if x is not None else None for x in laplacians]\n",
    "        boundaries = [ x.to(device) if x is not None else None for x in boundaries]\n",
    "\n",
    "        pos_pred = cm(pos_embeddings, laplacians, boundaries, order, idx, label).squeeze()\n",
    "        neg_pred = cm(neg_embeddings, laplacians, boundaries, order, idx, torch.ones_like(pos_embeddings[0][0])).squeeze()\n",
    "        loss1 += torch.nn.functional.binary_cross_entropy_with_logits(pos_pred, torch.ones_like(pos_pred)) + torch.nn.functional.binary_cross_entropy_with_logits(neg_pred, torch.zeros_like(neg_pred))\n",
    "        # loss1 += torch.nn.functional.margin_ranking_loss(pos_pred, neg_pred, label, margin=10, reduction='mean')\n",
    "        \n",
    "        subgraph = subgraph.to(device)\n",
    "        pos_pred = baseGnn(subgraph, pos_embeddings[0], order, label).squeeze()\n",
    "        neg_pred = baseGnn(subgraph, neg_embeddings[0], order, torch.ones_like(pos_embeddings[0][0])).squeeze()\n",
    "        loss2 += torch.nn.functional.binary_cross_entropy_with_logits(pos_pred, torch.ones_like(pos_pred)) + torch.nn.functional.binary_cross_entropy_with_logits(neg_pred, torch.zeros_like(neg_pred))\n",
    "        # loss2 += torch.nn.functional.margin_ranking_loss(pos_pred, neg_pred, label, margin=10, reduction='mean')\n",
    "        ep+=1\n",
    "        \n",
    "        if ep%32==0:\n",
    "            loss1 = loss1 / (2*32)\n",
    "            loss2 = loss2 / (2*32)\n",
    "            optim1.zero_grad()\n",
    "            loss1.backward() \n",
    "            optim1.step()\n",
    "            optim2.zero_grad()\n",
    "            loss2.backward()\n",
    "            optim2.step()\n",
    "            writer.add_scalars('Train Loss',{'Simplicial CNN': loss1.item(), 'Vanilla GNN': loss2.item()}, gs)\n",
    "\n",
    "            loss1 = 0\n",
    "            loss2 = 0\n",
    "            gs+=1\n",
    "        torch.cuda.empty_cache()\n"
   ]
  },
  {
   "cell_type": "markdown",
   "metadata": {},
   "source": [
    "> The following analysis established increasing the density of sampled subgraph increases the autograd function's time. \\\n",
    "> The preprocessing steps are efficient enough"
   ]
  },
  {
   "cell_type": "code",
   "execution_count": null,
   "metadata": {},
   "outputs": [],
   "source": [
    "import cProfile\n",
    "import pstats\n",
    "\n",
    "# profile = cProfile.Profile()\n",
    "# profile.runcall(train)\n",
    "# ps = pstats.Stats(profile)\n",
    "# ps.print_stats()"
   ]
  },
  {
   "cell_type": "code",
   "execution_count": 8,
   "metadata": {
    "notebookRunGroups": {
     "groupValue": "12"
    }
   },
   "outputs": [
    {
     "name": "stderr",
     "output_type": "stream",
     "text": [
      "100%|██████████| 10000/10000 [17:28<00:00,  9.54it/s] \n"
     ]
    }
   ],
   "source": [
    "with torch.no_grad():\n",
    "    ep = 0\n",
    "    H0 = []\n",
    "    H1 = []\n",
    "    H2 = []\n",
    "    H3 = []\n",
    "    labels0 = []\n",
    "    labels1 = []\n",
    "    with tqdm(dataloader) as tepoch:\n",
    "        for pos_embeddings, neg_embeddings, laplacians, boundaries, order, idx, label, subgraph in tepoch:\n",
    "            label, subgraph = label.to(device), subgraph.to(device)\n",
    "            pos_embeddings = [ x.to(device) if x is not None else None for x in pos_embeddings]\n",
    "            neg_embeddings = [ x.to(device) if x is not None else None for x in neg_embeddings]\n",
    "            laplacians = [ x.to(device) if x is not None else None for x in laplacians]\n",
    "            boundaries = [ x.to(device) if x is not None else None for x in boundaries]\n",
    "            # try:\n",
    "            if order > 0: # makes no sense to perform node classification since node embedding will be 0.\n",
    "                pred0 = (torch.sum(pos_embeddings[0][:order+1], dim=0)!=0).long().squeeze()\n",
    "                pred1 = (torch.prod(pos_embeddings[0][:order+1], dim=0)!=0).long().squeeze()\n",
    "                H0.append((pred0==label).long())\n",
    "                H1.append((pred1==label).long())\n",
    "                labels0.append(label)\n",
    "            pred2_pos = baseGnn(subgraph, pos_embeddings[0], order, label)\n",
    "            pred2_neg = baseGnn(subgraph, neg_embeddings[0], order, label)\n",
    "            pred3_pos = cm(pos_embeddings, laplacians, boundaries, order, idx, label)\n",
    "            pred3_neg = cm(neg_embeddings, laplacians, boundaries, order, idx, label)\n",
    "            # H1.append((torch.round(torch.sigmoid(pred1))==label).long())\n",
    "            # H2.append((torch.round(torch.sigmoid(pred2))==label).long())\n",
    "            H2.append(pred2_pos)\n",
    "            H2.append(pred2_neg)\n",
    "            H3.append(pred3_pos)\n",
    "            H3.append(pred3_neg)\n",
    "            labels1.append(torch.ones_like(pred2_pos))\n",
    "            labels1.append(torch.zeros_like(pred2_neg))\n",
    "            ep += 1\n",
    "            torch.cuda.empty_cache()\n",
    "            if ep>10000:\n",
    "                break\n",
    "            # except:\n",
    "            #     pass"
   ]
  },
  {
   "cell_type": "code",
   "execution_count": 9,
   "metadata": {
    "notebookRunGroups": {
     "groupValue": "1"
    }
   },
   "outputs": [],
   "source": [
    "H0 = torch.stack(H0)"
   ]
  },
  {
   "cell_type": "code",
   "execution_count": 10,
   "metadata": {
    "notebookRunGroups": {
     "groupValue": "1"
    }
   },
   "outputs": [],
   "source": [
    "H1 = torch.stack(H1)"
   ]
  },
  {
   "cell_type": "code",
   "execution_count": 11,
   "metadata": {
    "notebookRunGroups": {
     "groupValue": "1"
    }
   },
   "outputs": [],
   "source": [
    "labels0 = torch.stack(labels0)"
   ]
  },
  {
   "cell_type": "code",
   "execution_count": 12,
   "metadata": {
    "notebookRunGroups": {
     "groupValue": "1"
    }
   },
   "outputs": [],
   "source": [
    "H2 = torch.cat(H2)"
   ]
  },
  {
   "cell_type": "code",
   "execution_count": 13,
   "metadata": {
    "notebookRunGroups": {
     "groupValue": "1"
    }
   },
   "outputs": [],
   "source": [
    "H3 = torch.cat(H3)"
   ]
  },
  {
   "cell_type": "code",
   "execution_count": 14,
   "metadata": {
    "notebookRunGroups": {
     "groupValue": "1"
    }
   },
   "outputs": [],
   "source": [
    "labels1 = torch.cat(labels1)"
   ]
  },
  {
   "cell_type": "code",
   "execution_count": 9,
   "metadata": {
    "notebookRunGroups": {
     "groupValue": ""
    }
   },
   "outputs": [
    {
     "ename": "RuntimeError",
     "evalue": "stack expects each tensor to be equal size, but got [1, 1] at entry 0 and [8, 1] at entry 2",
     "output_type": "error",
     "traceback": [
      "\u001b[0;31m---------------------------------------------------------------------------\u001b[0m",
      "\u001b[0;31mRuntimeError\u001b[0m                              Traceback (most recent call last)",
      "\u001b[1;32m/home/adarsh/H-KGC/train.ipynb Cell 18\u001b[0m in \u001b[0;36m<cell line: 1>\u001b[0;34m()\u001b[0m\n\u001b[0;32m----> <a href='vscode-notebook-cell://ssh-remote%2B10.33.34.55/home/adarsh/H-KGC/train.ipynb#X23sdnNjb2RlLXJlbW90ZQ%3D%3D?line=0'>1</a>\u001b[0m H0, H1, H2, H3, labels0, labels1 \u001b[39m=\u001b[39m torch\u001b[39m.\u001b[39mstack(H0), torch\u001b[39m.\u001b[39mstack(H1), torch\u001b[39m.\u001b[39;49mstack(H2), torch\u001b[39m.\u001b[39mstack(H3), torch\u001b[39m.\u001b[39mstack(labels0), torch\u001b[39m.\u001b[39mstack(labels1)\n",
      "\u001b[0;31mRuntimeError\u001b[0m: stack expects each tensor to be equal size, but got [1, 1] at entry 0 and [8, 1] at entry 2"
     ]
    }
   ],
   "source": [
    "H0, H1, H2, H3, labels0, labels1 = torch.stack(H0), torch.stack(H1), torch.stack(H2), torch.stack(H3), torch.stack(labels0), torch.stack(labels1)"
   ]
  },
  {
   "attachments": {},
   "cell_type": "markdown",
   "metadata": {},
   "source": [
    "## Test Accuracy"
   ]
  },
  {
   "cell_type": "code",
   "execution_count": 15,
   "metadata": {
    "notebookRunGroups": {
     "groupValue": "12"
    }
   },
   "outputs": [],
   "source": [
    "from sklearn.metrics import roc_auc_score, f1_score, precision_score, recall_score"
   ]
  },
  {
   "attachments": {},
   "cell_type": "markdown",
   "metadata": {},
   "source": [
    "### AUC is better with Simplicial GNN"
   ]
  },
  {
   "attachments": {},
   "cell_type": "markdown",
   "metadata": {},
   "source": [
    "* Cooking dataset"
   ]
  },
  {
   "cell_type": "code",
   "execution_count": 16,
   "metadata": {
    "notebookRunGroups": {
     "groupValue": "1"
    }
   },
   "outputs": [
    {
     "data": {
      "text/plain": [
       "0.5231242078102861"
      ]
     },
     "execution_count": 16,
     "metadata": {},
     "output_type": "execute_result"
    }
   ],
   "source": [
    "# AUC with union operation\n",
    "A = roc_auc_score(labels0.cpu().numpy(), H0.cpu().numpy(), average='weighted')\n",
    "A"
   ]
  },
  {
   "cell_type": "code",
   "execution_count": 17,
   "metadata": {
    "notebookRunGroups": {
     "groupValue": "1"
    }
   },
   "outputs": [
    {
     "data": {
      "text/plain": [
       "0.12847889217519948"
      ]
     },
     "execution_count": 17,
     "metadata": {},
     "output_type": "execute_result"
    }
   ],
   "source": [
    "# AUC with intersection operation\n",
    "B = roc_auc_score(labels0.cpu().numpy(), H1.cpu().numpy(),  average='weighted')\n",
    "B"
   ]
  },
  {
   "cell_type": "code",
   "execution_count": 18,
   "metadata": {
    "notebookRunGroups": {
     "groupValue": "1"
    }
   },
   "outputs": [
    {
     "data": {
      "text/plain": [
       "0.9864928966053979"
      ]
     },
     "execution_count": 18,
     "metadata": {},
     "output_type": "execute_result"
    }
   ],
   "source": [
    "# AUC with vanilla GNN\n",
    "C = roc_auc_score(labels1.cpu().numpy(), H2.cpu().numpy(),  average='weighted')\n",
    "C"
   ]
  },
  {
   "cell_type": "code",
   "execution_count": 19,
   "metadata": {
    "notebookRunGroups": {
     "groupValue": "1"
    }
   },
   "outputs": [
    {
     "data": {
      "text/plain": [
       "0.9976887812425005"
      ]
     },
     "execution_count": 19,
     "metadata": {},
     "output_type": "execute_result"
    }
   ],
   "source": [
    "# AUC with Simplicial Relational CNN with attention\n",
    "D = roc_auc_score(labels1.cpu().numpy(), H3.cpu().numpy(),  average='weighted')\n",
    "D"
   ]
  },
  {
   "attachments": {},
   "cell_type": "markdown",
   "metadata": {},
   "source": [
    "* MAG 10 dataset"
   ]
  },
  {
   "cell_type": "code",
   "execution_count": 25,
   "metadata": {
    "notebookRunGroups": {
     "groupValue": ""
    }
   },
   "outputs": [
    {
     "data": {
      "text/plain": [
       "0.5414017346893194"
      ]
     },
     "execution_count": 25,
     "metadata": {},
     "output_type": "execute_result"
    }
   ],
   "source": [
    "# AUC with union operation\n",
    "A = roc_auc_score(labels0.cpu().numpy(), H0.cpu().numpy(),  average='weighted')\n",
    "A"
   ]
  },
  {
   "cell_type": "code",
   "execution_count": 26,
   "metadata": {
    "notebookRunGroups": {
     "groupValue": ""
    }
   },
   "outputs": [
    {
     "data": {
      "text/plain": [
       "0.20451034521941505"
      ]
     },
     "execution_count": 26,
     "metadata": {},
     "output_type": "execute_result"
    }
   ],
   "source": [
    "# AUC with intersection operation\n",
    "B = roc_auc_score(labels0.cpu().numpy(), H1.cpu().numpy(),  average='weighted')\n",
    "B"
   ]
  },
  {
   "cell_type": "code",
   "execution_count": 27,
   "metadata": {
    "notebookRunGroups": {
     "groupValue": ""
    }
   },
   "outputs": [
    {
     "data": {
      "text/plain": [
       "0.47676917645963046"
      ]
     },
     "execution_count": 27,
     "metadata": {},
     "output_type": "execute_result"
    }
   ],
   "source": [
    "# AUC with vanilla GNN\n",
    "C = roc_auc_score(labels1.cpu().numpy(), H2.cpu().numpy(),  average='weighted')\n",
    "C"
   ]
  },
  {
   "cell_type": "code",
   "execution_count": 28,
   "metadata": {
    "notebookRunGroups": {
     "groupValue": ""
    }
   },
   "outputs": [
    {
     "data": {
      "text/plain": [
       "0.5840068062314466"
      ]
     },
     "execution_count": 28,
     "metadata": {},
     "output_type": "execute_result"
    }
   ],
   "source": [
    "# AUC with Simplicial Relational CNN with attention\n",
    "D = roc_auc_score(labels1.cpu().numpy(), H3.cpu().numpy(),  average='weighted')\n",
    "D"
   ]
  },
  {
   "attachments": {},
   "cell_type": "markdown",
   "metadata": {},
   "source": [
    "* Algebra dataset"
   ]
  },
  {
   "cell_type": "code",
   "execution_count": 39,
   "metadata": {
    "notebookRunGroups": {
     "groupValue": "2"
    }
   },
   "outputs": [],
   "source": [
    "mask = (labels0.sum(dim=0)!=0)\n",
    "labels0 = labels0[:,mask]\n",
    "labels1 = labels1[:,mask]\n",
    "H0 = H0[:,mask]\n",
    "H1 = H1[:,mask]\n",
    "H2 = H2[:,mask]\n",
    "H3 = H3[:,mask]"
   ]
  },
  {
   "cell_type": "code",
   "execution_count": 40,
   "metadata": {
    "notebookRunGroups": {
     "groupValue": "2"
    }
   },
   "outputs": [
    {
     "data": {
      "text/plain": [
       "0.6301262673258093"
      ]
     },
     "execution_count": 40,
     "metadata": {},
     "output_type": "execute_result"
    }
   ],
   "source": [
    "# AUC with union operation\n",
    "A = roc_auc_score(labels0.cpu().numpy(), H0.cpu().numpy(),  average='weighted')\n",
    "A"
   ]
  },
  {
   "cell_type": "code",
   "execution_count": 41,
   "metadata": {
    "notebookRunGroups": {
     "groupValue": "2"
    }
   },
   "outputs": [
    {
     "data": {
      "text/plain": [
       "0.11706815805412159"
      ]
     },
     "execution_count": 41,
     "metadata": {},
     "output_type": "execute_result"
    }
   ],
   "source": [
    "# AUC with intersection operation\n",
    "B = roc_auc_score(labels0.cpu().numpy(), H1.cpu().numpy(),  average='weighted')\n",
    "B"
   ]
  },
  {
   "cell_type": "code",
   "execution_count": 42,
   "metadata": {
    "notebookRunGroups": {
     "groupValue": "2"
    }
   },
   "outputs": [
    {
     "data": {
      "text/plain": [
       "0.4858226434323319"
      ]
     },
     "execution_count": 42,
     "metadata": {},
     "output_type": "execute_result"
    }
   ],
   "source": [
    "# AUC with vanilla GNN\n",
    "C = roc_auc_score(labels1.cpu().numpy(), H2.cpu().numpy(),  average='weighted')\n",
    "C"
   ]
  },
  {
   "cell_type": "code",
   "execution_count": 43,
   "metadata": {
    "notebookRunGroups": {
     "groupValue": "2"
    }
   },
   "outputs": [
    {
     "data": {
      "text/plain": [
       "0.6857028048070942"
      ]
     },
     "execution_count": 43,
     "metadata": {},
     "output_type": "execute_result"
    }
   ],
   "source": [
    "# AUC with Simplicial Relational CNN with attention\n",
    "D = roc_auc_score(labels1.cpu().numpy(), H3.cpu().numpy(),  average='weighted')\n",
    "D"
   ]
  }
 ],
 "metadata": {
  "kernelspec": {
   "display_name": "mtech-ai",
   "language": "python",
   "name": "python3"
  },
  "language_info": {
   "codemirror_mode": {
    "name": "ipython",
    "version": 3
   },
   "file_extension": ".py",
   "mimetype": "text/x-python",
   "name": "python",
   "nbconvert_exporter": "python",
   "pygments_lexer": "ipython3",
   "version": "3.8.13"
  },
  "orig_nbformat": 4,
  "vscode": {
   "interpreter": {
    "hash": "35c8a66ee3e6b3d2731e4e1d203879b7efbef813706e5767cef09de0fdb5c447"
   }
  }
 },
 "nbformat": 4,
 "nbformat_minor": 2
}
