{
 "cells": [
  {
   "cell_type": "code",
   "execution_count": 1,
   "metadata": {},
   "outputs": [],
   "source": [
    "import warnings\n",
    "warnings.filterwarnings('ignore')\n",
    "\n",
    "from process_dataset import get_dgl_graph\n",
    "from subgraph_extraction import extract_subgraph\n",
    "from graph_to_simplicial_complex import get_simplicial_complex, get_embeddings, device\n",
    "from hodgelaplacians import HodgeLaplacians\n",
    "from layers.simplicial_convolution import SimplicialAttentionLayer, SimplicialConvolution\n",
    "import numpy as np\n",
    "from model import CookingModel"
   ]
  },
  {
   "cell_type": "code",
   "execution_count": 2,
   "metadata": {},
   "outputs": [
    {
     "name": "stdout",
     "output_type": "stream",
     "text": [
      "> loading nx_graph from cache\n",
      "> loading dgl_graph from cache\n"
     ]
    }
   ],
   "source": [
    "graph, nx_graph = get_dgl_graph()"
   ]
  },
  {
   "cell_type": "markdown",
   "metadata": {},
   "source": [
    "# Sampling"
   ]
  },
  {
   "cell_type": "code",
   "execution_count": 3,
   "metadata": {},
   "outputs": [
    {
     "name": "stdout",
     "output_type": "stream",
     "text": [
      "Laplacians: [torch.Size([7, 7]), torch.Size([10, 10]), torch.Size([1, 1]), 0]\n",
      "Boundaries: [torch.Size([1, 7]), torch.Size([7, 10]), torch.Size([10, 1]), 0]\n",
      "Embeddings [torch.Size([7, 20]), torch.Size([10, 20]), torch.Size([1, 20]), 0]\n",
      "Label torch.Size([20])\n",
      "Edge 4\n"
     ]
    }
   ],
   "source": [
    "eid = np.random.choice(graph.edges('eid'))\n",
    "u, v = graph.find_edges(eid)\n",
    "to_remove = frozenset((u.item(), v.item()))\n",
    "subgraph = extract_subgraph([u.item(), v.item()], graph, h=4, enclosing_sub_graph=True, max_nodes_per_hop=60)\n",
    "simplex_labels = get_simplicial_complex(subgraph, graph, nx_graph)\n",
    "embeddings, laplacians, boundaries, idx, label = get_embeddings(simplex_labels, to_remove, dim=4)\n",
    "print('Laplacians:',[ laplacian.shape if laplacian is not None else 0 for laplacian in laplacians])\n",
    "print('Boundaries:',[ boundary.shape if boundary is not None else 0 for boundary in boundaries])\n",
    "print('Embeddings',[ embedding.shape if embedding is not None else 0 for embedding in embeddings])\n",
    "print('Label',label.shape)\n",
    "print('Edge',idx)"
   ]
  },
  {
   "cell_type": "markdown",
   "metadata": {},
   "source": [
    "# Model Training and Evaluation"
   ]
  },
  {
   "cell_type": "code",
   "execution_count": 4,
   "metadata": {},
   "outputs": [],
   "source": [
    "from model import CookingModel\n",
    "import torch\n",
    "from tqdm import tqdm\n",
    "from torch.utils.tensorboard import SummaryWriter\n",
    "\n",
    "writer = SummaryWriter('/home/adarsh/H-KGC/datasets/cat_edge_cooking/logs')\n",
    "gs = 0\n",
    "\n",
    "cm = CookingModel(dim=4, device=device).to(device)\n",
    "optim = torch.optim.Adam(cm.parameters(), lr=1e-4)"
   ]
  },
  {
   "cell_type": "code",
   "execution_count": 5,
   "metadata": {},
   "outputs": [
    {
     "name": "stderr",
     "output_type": "stream",
     "text": [
      "100%|██████████| 500/500 [03:19<00:00,  2.51it/s]\n"
     ]
    }
   ],
   "source": [
    "for ep in tqdm(range(500)):\n",
    "    eid = np.random.choice(graph.edges('eid'))\n",
    "    u, v = graph.find_edges(eid)\n",
    "    to_remove = frozenset((u.item(), v.item()))\n",
    "    subgraph = extract_subgraph([u.item(), v.item()], graph, h=4, enclosing_sub_graph=True, max_nodes_per_hop=50)\n",
    "    simplex_labels = get_simplicial_complex(subgraph, graph, nx_graph)\n",
    "    embeddings, laplacians, boundaries, idx, label = get_embeddings(simplex_labels, to_remove, dim=4)\n",
    "\n",
    "    pred = cm(embeddings, laplacians, boundaries, 1, idx).squeeze()\n",
    "    loss = torch.nn.functional.binary_cross_entropy_with_logits(pred, label)\n",
    "    optim.zero_grad()\n",
    "    loss.backward()\n",
    "    optim.step()\n",
    "    writer.add_scalar('train loss',loss.item(), gs)\n",
    "    gs+=1\n",
    "    torch.cuda.empty_cache()"
   ]
  },
  {
   "cell_type": "code",
   "execution_count": 6,
   "metadata": {},
   "outputs": [
    {
     "name": "stderr",
     "output_type": "stream",
     "text": [
      "100%|██████████| 50/50 [00:18<00:00,  2.67it/s]\n"
     ]
    }
   ],
   "source": [
    "with torch.no_grad():\n",
    "    H = []\n",
    "    for ep in tqdm(range(50)):\n",
    "        eid = np.random.choice(graph.edges('eid'))\n",
    "        u, v = graph.find_edges(eid)\n",
    "        to_remove = frozenset((u.item(), v.item()))\n",
    "        subgraph = extract_subgraph([u.item(), v.item()], graph, h=4, enclosing_sub_graph=True, max_nodes_per_hop=50)\n",
    "        simplex_labels = get_simplicial_complex(subgraph, graph, nx_graph)\n",
    "        embeddings, laplacians, boundaries, idx, label = get_embeddings(simplex_labels, to_remove, dim=4)\n",
    "\n",
    "        pred = cm(embeddings, laplacians, boundaries, 1, idx).squeeze()\n",
    "        H.append((torch.round(torch.sigmoid(pred))==label).long())"
   ]
  },
  {
   "cell_type": "markdown",
   "metadata": {},
   "source": [
    "### Test Accuracy"
   ]
  },
  {
   "cell_type": "code",
   "execution_count": 7,
   "metadata": {},
   "outputs": [
    {
     "data": {
      "text/plain": [
       "tensor([0.8600, 0.0600, 0.9400, 0.8800, 0.2000, 0.8400, 0.8400, 0.8400, 0.7200,\n",
       "        0.8200, 0.8000, 0.9400, 0.8400, 0.8200, 0.2200, 0.8400, 0.8400, 0.8400,\n",
       "        0.8600, 0.3600], device='cuda:0')"
      ]
     },
     "execution_count": 7,
     "metadata": {},
     "output_type": "execute_result"
    }
   ],
   "source": [
    "torch.sum(torch.stack(H),dim=0)/len(H)"
   ]
  }
 ],
 "metadata": {
  "kernelspec": {
   "display_name": "mtech-ai",
   "language": "python",
   "name": "python3"
  },
  "language_info": {
   "codemirror_mode": {
    "name": "ipython",
    "version": 3
   },
   "file_extension": ".py",
   "mimetype": "text/x-python",
   "name": "python",
   "nbconvert_exporter": "python",
   "pygments_lexer": "ipython3",
   "version": "3.8.13"
  },
  "orig_nbformat": 4,
  "vscode": {
   "interpreter": {
    "hash": "35c8a66ee3e6b3d2731e4e1d203879b7efbef813706e5767cef09de0fdb5c447"
   }
  }
 },
 "nbformat": 4,
 "nbformat_minor": 2
}
