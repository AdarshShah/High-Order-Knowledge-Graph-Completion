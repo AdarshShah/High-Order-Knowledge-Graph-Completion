{
 "cells": [
  {
   "cell_type": "code",
   "execution_count": 1,
   "metadata": {},
   "outputs": [
    {
     "name": "stderr",
     "output_type": "stream",
     "text": [
      "/home/adarsh/anaconda3/envs/mtech-ai/lib/python3.8/site-packages/tqdm/auto.py:22: TqdmWarning: IProgress not found. Please update jupyter and ipywidgets. See https://ipywidgets.readthedocs.io/en/stable/user_install.html\n",
      "  from .autonotebook import tqdm as notebook_tqdm\n"
     ]
    }
   ],
   "source": [
    "from process_dataset import get_dgl_graph\n",
    "from subgraph_extraction import extract_subgraph\n",
    "from graph_to_simplicial_complex import get_simplicial_complex, get_embeddings\n",
    "from hodgelaplacians import HodgeLaplacians\n",
    "from layers.simplicial_convolution import SimplicialAttentionLayer, SimplicialConvolution\n",
    "import numpy as np\n",
    "from model import CookingModel"
   ]
  },
  {
   "cell_type": "code",
   "execution_count": 2,
   "metadata": {},
   "outputs": [
    {
     "name": "stdout",
     "output_type": "stream",
     "text": [
      "> loading nx_graph from cache\n",
      "> loading dgl_graph from cache\n"
     ]
    }
   ],
   "source": [
    "graph, nx_graph = get_dgl_graph()"
   ]
  },
  {
   "cell_type": "code",
   "execution_count": 19,
   "metadata": {},
   "outputs": [
    {
     "name": "stdout",
     "output_type": "stream",
     "text": [
      "Laplacians: [torch.Size([28, 28]), torch.Size([123, 123]), torch.Size([80, 80]), torch.Size([20, 20])]\n",
      "Boundaries: [torch.Size([1, 28]), torch.Size([28, 123]), torch.Size([123, 80]), torch.Size([80, 20])]\n",
      "Embeddings [torch.Size([28, 20]), torch.Size([123, 20]), torch.Size([80, 20]), torch.Size([20, 20])]\n",
      "Edge 86\n"
     ]
    },
    {
     "name": "stderr",
     "output_type": "stream",
     "text": [
      "/home/adarsh/anaconda3/envs/mtech-ai/lib/python3.8/site-packages/hodgelaplacians/hodgelaplacians.py:27: UserWarning: Maximal simplex in the collection has size 1. \n",
      " maxdimension is set to 0\n",
      "  warn(f\"Maximal simplex in the collection has size {max_simplex_size}. \\n maxdimension is set to {max_simplex_size-1}\")\n"
     ]
    }
   ],
   "source": [
    "eid = np.random.choice(graph.edges('eid'))\n",
    "u, v = graph.find_edges(eid)\n",
    "to_remove = frozenset((u.item(), v.item()))\n",
    "subgraph = extract_subgraph([u.item(), v.item()], graph, h=4, enclosing_sub_graph=True, max_nodes_per_hop=100)\n",
    "simplex_labels = get_simplicial_complex(subgraph, graph, nx_graph)\n",
    "embeddings, laplacians, boundaries, idx = get_embeddings(simplex_labels, to_remove, dim=5)\n",
    "print('Laplacians:',[ laplacian.shape if laplacian is not None else 0 for laplacian in laplacians])\n",
    "print('Boundaries:',[ boundary.shape if boundary is not None else 0 for boundary in boundaries])\n",
    "print('Embeddings',[ embedding.shape if embedding is not None else 0 for embedding in embeddings])\n",
    "print('Edge',idx)"
   ]
  }
 ],
 "metadata": {
  "kernelspec": {
   "display_name": "mtech-ai",
   "language": "python",
   "name": "python3"
  },
  "language_info": {
   "codemirror_mode": {
    "name": "ipython",
    "version": 3
   },
   "file_extension": ".py",
   "mimetype": "text/x-python",
   "name": "python",
   "nbconvert_exporter": "python",
   "pygments_lexer": "ipython3",
   "version": "3.8.13"
  },
  "orig_nbformat": 4,
  "vscode": {
   "interpreter": {
    "hash": "35c8a66ee3e6b3d2731e4e1d203879b7efbef813706e5767cef09de0fdb5c447"
   }
  }
 },
 "nbformat": 4,
 "nbformat_minor": 2
}
